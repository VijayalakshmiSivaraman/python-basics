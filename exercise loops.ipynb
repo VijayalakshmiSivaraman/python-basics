{
 "cells": [
  {
   "cell_type": "code",
   "execution_count": 18,
   "metadata": {},
   "outputs": [
    {
     "name": "stdout",
     "output_type": "stream",
     "text": [
      "Enter count of numbers: 5\n",
      "Numbers: 5\n",
      "5 is odd\n",
      "Numbers: 10\n",
      "10 is even\n",
      "Numbers: 15\n",
      "15 is odd\n",
      "Numbers: 20\n",
      "20 is even\n",
      "Numbers: 25\n",
      "25 is odd\n"
     ]
    }
   ],
   "source": [
    "# even or odd\n",
    "num = int(input(\"Enter count of numbers: \"))\n",
    "for n in range(num):\n",
    "    n = int(input(\"Numbers: \"))\n",
    "    if n%2 == 0:\n",
    "        print(n, \"is even\")\n",
    "    else:\n",
    "        print(n, \"is odd\")"
   ]
  },
  {
   "cell_type": "code",
   "execution_count": 6,
   "metadata": {},
   "outputs": [
    {
     "name": "stdout",
     "output_type": "stream",
     "text": [
      "count of even numbers:  3\n",
      "count of odd numbers:  4\n"
     ]
    }
   ],
   "source": [
    "# count of even and odd digits in an integer\n",
    "num= 1234567\n",
    "counte = 0\n",
    "counto = 0\n",
    "while num != 0:\n",
    "    rem = num%10\n",
    "    if rem%2 == 0:\n",
    "        counte += 1\n",
    "    else:\n",
    "        counto += 1\n",
    "    num = num//10\n",
    "print(\"count of even numbers: \", counte)\n",
    "print(\"count of odd numbers: \", counto)"
   ]
  },
  {
   "cell_type": "code",
   "execution_count": 7,
   "metadata": {},
   "outputs": [
    {
     "name": "stdout",
     "output_type": "stream",
     "text": [
      "count of even numbers:  3\n",
      "count of odd numbers:  4\n"
     ]
    }
   ],
   "source": [
    "# count of even and odd numbers\n",
    "num = [1,2,3,4,5,6,7]\n",
    "counte = 0\n",
    "counto = 0\n",
    "for n in num:\n",
    "    if n%2 == 0:\n",
    "        counte += 1\n",
    "    else:\n",
    "        counto += 1\n",
    "print(\"count of even numbers: \", counte)\n",
    "print(\"count of odd numbers: \", counto)"
   ]
  },
  {
   "cell_type": "code",
   "execution_count": 24,
   "metadata": {
    "scrolled": true
   },
   "outputs": [
    {
     "name": "stdout",
     "output_type": "stream",
     "text": [
      "200,202,204,206,208,220,222,224,226,228,240,242,244,246,248,260,262,264,266,268,280,282,284,286,288,400\n"
     ]
    }
   ],
   "source": [
    "#to find numbers between 100 and 400 (both included) where each digit of a number is an even number\n",
    "items = []\n",
    "for num in range(100, 401):\n",
    "    n = str(num)\n",
    "    if (int(n[0])%2 == 0 and int(n[1])%2 == 0 and int(n[2])%2 == 0):\n",
    "        items.append(n)\n",
    "print(\",\".join(items))    "
   ]
  },
  {
   "cell_type": "code",
   "execution_count": 31,
   "metadata": {},
   "outputs": [
    {
     "name": "stdout",
     "output_type": "stream",
     "text": [
      "enter the age of human: 5\n",
      "33.0 is the age of dog in dog years\n"
     ]
    }
   ],
   "source": [
    "#to calculate a dog's age in dog's years\n",
    "# For the first two years, a dog year is equal to 10.5 human years. After that, each dog year equals 4 human years\n",
    "\n",
    "human_age = int(input(\"enter the age of human: \"))\n",
    "if human_age < 0:\n",
    "    print(\"age should be a positive number\")\n",
    "elif human_age <= 2:\n",
    "    dog_age = 10.5 * human_age\n",
    "    print(dog_age, \"is the age of dog in dog years\")\n",
    "else:\n",
    "    dog_age = 10.5 + 10.5+ (human_age - 2)*4\n",
    "    print(dog_age, \"is the age of dog in dog years\")\n"
   ]
  },
  {
   "cell_type": "code",
   "execution_count": 20,
   "metadata": {},
   "outputs": [
    {
     "name": "stdout",
     "output_type": "stream",
     "text": [
      "6\n"
     ]
    }
   ],
   "source": [
    "#largest of 3 numbers\n",
    "num = (3, 6, -5)\n",
    "i = 0\n",
    "for n in num:\n",
    "    if n>i:\n",
    "        i = n\n",
    "        continue\n",
    "print(i) \n",
    "    "
   ]
  },
  {
   "cell_type": "code",
   "execution_count": 32,
   "metadata": {},
   "outputs": [
    {
     "name": "stdout",
     "output_type": "stream",
     "text": [
      "largest of the 3 is:  6\n"
     ]
    }
   ],
   "source": [
    "#largest of 3 numbers\n",
    "def max_num(a,b,c):\n",
    "    print(\"largest of the 3 is: \", max(a,b,c))\n",
    "max_num(3,6,-5)"
   ]
  },
  {
   "cell_type": "code",
   "execution_count": 51,
   "metadata": {},
   "outputs": [
    {
     "name": "stdout",
     "output_type": "stream",
     "text": [
      "5 is prime\n",
      "10 is not prime\n",
      "2 is prime\n"
     ]
    }
   ],
   "source": [
    "# checking if a number is prime\n",
    "def prime_num(num):\n",
    "    if num < 1:\n",
    "        return False\n",
    "    elif num > 1:\n",
    "        for n in range(2, num):\n",
    "            if num%n == 0:\n",
    "                print(num, \"is not prime\")\n",
    "                break\n",
    "        else:\n",
    "            print(num, \"is prime\")\n",
    "prime_num(5)\n",
    "prime_num(10)\n",
    "prime_num(2)\n",
    "        "
   ]
  },
  {
   "cell_type": "code",
   "execution_count": 63,
   "metadata": {},
   "outputs": [
    {
     "name": "stdout",
     "output_type": "stream",
     "text": [
      "3 is the count of uppercase letters\n",
      "3 is the count of lowercase letters\n",
      "1 is the count of uppercase letters\n",
      "5 is the count of lowercase letters\n",
      "1 is the count of uppercase letters\n",
      "3 is the count of lowercase letters\n",
      "3 is the count of uppercase letters\n",
      "0 is the count of lowercase letters\n"
     ]
    }
   ],
   "source": [
    "#uppercase and lowercase count in a string\n",
    "def case_count(s):\n",
    "    count_u = 0\n",
    "    count_l = 0\n",
    "    for i in s:\n",
    "        if i.isupper():\n",
    "            count_u += 1\n",
    "        elif i.islower():\n",
    "            count_l += 1\n",
    "    print(count_u, \"is the count of uppercase letters\")\n",
    "    print(count_l, \"is the count of lowercase letters\")\n",
    "case_count(\"StRiNg\")\n",
    "case_count(\"Balaji\")\n",
    "case_count(\"Bala\")\n",
    "case_count(\"UMA\")        "
   ]
  },
  {
   "cell_type": "code",
   "execution_count": 66,
   "metadata": {},
   "outputs": [
    {
     "name": "stdout",
     "output_type": "stream",
     "text": [
      "987654321\n"
     ]
    }
   ],
   "source": [
    "# reverse a number\n",
    "number = 123456789\n",
    "rev = 0\n",
    "while number != 0:\n",
    "    dig = number%10\n",
    "    rev = rev*10 + dig\n",
    "    number = number//10\n",
    "print(rev)\n"
   ]
  },
  {
   "cell_type": "code",
   "execution_count": 80,
   "metadata": {},
   "outputs": [
    {
     "name": "stdout",
     "output_type": "stream",
     "text": [
      "gnirts\n"
     ]
    }
   ],
   "source": [
    "# reverse a string\n",
    "s = 'string'\n",
    "print(\"\".join(reversed(s)))"
   ]
  },
  {
   "cell_type": "code",
   "execution_count": 82,
   "metadata": {},
   "outputs": [
    {
     "name": "stdout",
     "output_type": "stream",
     "text": [
      "ALAB\n"
     ]
    }
   ],
   "source": [
    "#reverse a string\n",
    "def string(s):\n",
    "    return s[::-1]\n",
    "x = string(\"BALA\")\n",
    "print(x)"
   ]
  },
  {
   "cell_type": "code",
   "execution_count": 83,
   "metadata": {},
   "outputs": [
    {
     "name": "stdout",
     "output_type": "stream",
     "text": [
      "The gcd of 60 and 48 is : 12\n"
     ]
    }
   ],
   "source": [
    "#gcd or hcf of 2 numbers\n",
    "def hcf(a, b):\n",
    "    if(b == 0):\n",
    "        return a\n",
    "    else:\n",
    "        return hcf(b, a % b)\n",
    "  \n",
    "a = 60\n",
    "b = 48\n",
    "  \n",
    "print(\"The gcd of 60 and 48 is : \", end=\"\")\n",
    "print(hcf(60, 48))"
   ]
  },
  {
   "cell_type": "code",
   "execution_count": 85,
   "metadata": {},
   "outputs": [
    {
     "name": "stdout",
     "output_type": "stream",
     "text": [
      "12\n",
      "2\n"
     ]
    }
   ],
   "source": [
    "# gcd of 2 numbers\n",
    "import math\n",
    "gcd_num = math.gcd(60, 48)\n",
    "print(gcd_num)\n",
    "gcd_num = math.gcd(12, 14)\n",
    "print(gcd_num)"
   ]
  },
  {
   "cell_type": "code",
   "execution_count": 88,
   "metadata": {},
   "outputs": [
    {
     "name": "stdout",
     "output_type": "stream",
     "text": [
      "String is palindrome\n",
      "string is not a palindrome\n"
     ]
    }
   ],
   "source": [
    "# if string is palindrome\n",
    "def pal_str(s):\n",
    "    rev = s[::-1]\n",
    "    if s == rev:\n",
    "        print(\"String is palindrome\")\n",
    "    else:\n",
    "        print(\"string is not a palindrome\")\n",
    "pal_str(\"malayalam\")\n",
    "pal_str(\"black\")"
   ]
  },
  {
   "cell_type": "code",
   "execution_count": 105,
   "metadata": {},
   "outputs": [
    {
     "name": "stdout",
     "output_type": "stream",
     "text": [
      "Enter string:mala\n",
      "String isn't a palindrome!\n"
     ]
    }
   ],
   "source": [
    "# recursive fn if string is palindrome\n",
    "def is_palindrome(s):\n",
    "    if len(s) < 1:\n",
    "        return True\n",
    "    else:\n",
    "        if s[0] == s[-1]:\n",
    "            return is_palindrome(s[1:-1])\n",
    "        else:\n",
    "            return False\n",
    "a=str(input(\"Enter string:\"))\n",
    "if(is_palindrome(a)==True):\n",
    "    print(\"String is a palindrome!\")\n",
    "else:\n",
    "    print(\"String isn't a palindrome!\")"
   ]
  }
 ],
 "metadata": {
  "kernelspec": {
   "display_name": "Python 3",
   "language": "python",
   "name": "python3"
  },
  "language_info": {
   "codemirror_mode": {
    "name": "ipython",
    "version": 3
   },
   "file_extension": ".py",
   "mimetype": "text/x-python",
   "name": "python",
   "nbconvert_exporter": "python",
   "pygments_lexer": "ipython3",
   "version": "3.8.5"
  }
 },
 "nbformat": 4,
 "nbformat_minor": 4
}
