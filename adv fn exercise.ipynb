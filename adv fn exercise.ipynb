{
 "cells": [
  {
   "cell_type": "code",
   "execution_count": 10,
   "metadata": {},
   "outputs": [],
   "source": [
    "import pandas as pd\n",
    "import numpy as np"
   ]
  },
  {
   "cell_type": "code",
   "execution_count": 6,
   "metadata": {},
   "outputs": [
    {
     "name": "stdout",
     "output_type": "stream",
     "text": [
      "[(4887871, 'Alabama'), (39865590, 'California'), (1420491, 'Hawaii'), (19542209, 'New York'), (626299, 'Vermont'), (1805832, 'West Virginia')]\n"
     ]
    }
   ],
   "source": [
    "# Write a function to sort the list based on the first letter of the second element\n",
    "def sort_fn(lst):\n",
    "    lst.sort(key = lambda x : x[1])\n",
    "    return lst\n",
    "print(sort_fn(lst))\n",
    "lst=[(19542209, \"New York\") ,(4887871, \"Alabama\"), (1420491, \"Hawaii\"), (626299, \"Vermont\"), (1805832, \"West Virginia\"), (39865590, \"California\")]\n"
   ]
  },
  {
   "cell_type": "code",
   "execution_count": 19,
   "metadata": {},
   "outputs": [
    {
     "name": "stdout",
     "output_type": "stream",
     "text": [
      "[(4887871, 'Alabama'), (39865590, 'California'), (1420491, 'Hawaii'), (19542209, 'New York'), (626299, 'Vermont'), (1805832, 'West Virginia')]\n"
     ]
    }
   ],
   "source": [
    "#  function to sort the list based on the last letter of the second element\n",
    "def sorting(lst1):\n",
    "    lst1.sort(key = lambda z : z[-1])\n",
    "    return lst1\n",
    "print(sorting([(19542209, 'New York'), (4887871, 'Alabama'), (1420491, 'Hawaii'), (626299, 'Vermont'), (1805832, 'West Virginia'), (39865590, 'California')]))\n"
   ]
  },
  {
   "cell_type": "code",
   "execution_count": 17,
   "metadata": {},
   "outputs": [
    {
     "name": "stdout",
     "output_type": "stream",
     "text": [
      "[(2, 1), (1, 2), (2, 3), (4, 4), (2, 5)]\n"
     ]
    }
   ],
   "source": [
    "def sort_list_last(ls):\n",
    "    ls.sort(key = lambda v : v[-1])\n",
    "    return ls\n",
    "print(sort_list_last([(2, 5), (1, 2), (4, 4), (2, 3), (2, 1)]))"
   ]
  },
  {
   "cell_type": "code",
   "execution_count": 7,
   "metadata": {},
   "outputs": [
    {
     "data": {
      "text/plain": [
       "[('Energy', 1),\n",
       " ('Agriculture', 2),\n",
       " ('Industry', 3),\n",
       " ('Technology', 4),\n",
       " ('Finance', 5),\n",
       " ('Forestry', 6),\n",
       " ('Transport', 7)]"
      ]
     },
     "execution_count": 7,
     "metadata": {},
     "output_type": "execute_result"
    }
   ],
   "source": [
    "# Create a range from 1 to 8 & merge the given list together to create a new list of tuples\n",
    "d1 = pd.Series(range(1,9))\n",
    "lst2 = [\"Energy\", \"Agriculture\", \"Industry\", \"Technology\", \"Finance\", \"Forestry\", \"Transport\"]\n",
    "d2 = pd.Series(lst2)\n",
    "d3 = pd.Series(zip(d2,d1))\n",
    "d3.tolist()"
   ]
  },
  {
   "cell_type": "code",
   "execution_count": 97,
   "metadata": {},
   "outputs": [
    {
     "name": "stdout",
     "output_type": "stream",
     "text": [
      "3 2 3 3 3 3 3 "
     ]
    }
   ],
   "source": [
    "# a function to create a list consisted of the number of occurence of letter: a (all a's)\n",
    "def letter(lst3):\n",
    "    global count\n",
    "    for i in lst3:\n",
    "        count = 0\n",
    "        for j in i:\n",
    "            if (j == 'A') or (j =='a'):\n",
    "                count+=1\n",
    "        print(count, end = ' ')           \n",
    "lst3=[\"Antartica\", \"America\", \"Armania\", \"Australia\", \"Albania\", \"Afganistan\",\"Alaska\"]\n",
    "letter(lst3)\n"
   ]
  },
  {
   "cell_type": "code",
   "execution_count": 102,
   "metadata": {},
   "outputs": [
    {
     "name": "stdout",
     "output_type": "stream",
     "text": [
      "[3, 2, 3, 3, 3, 3, 3]\n"
     ]
    }
   ],
   "source": [
    "# a function to create a list consisted of the number of occurence of letter: a (all a's)\n",
    "def letter(lst3):\n",
    "    print(list(map(lambda x: x.count('a')+x.count('A'),lst3)))         \n",
    "lst3=[\"Antartica\", \"America\", \"Armania\", \"Australia\", \"Albania\", \"Afganistan\",\"Alaska\"]\n",
    "letter(lst3)"
   ]
  },
  {
   "cell_type": "code",
   "execution_count": 117,
   "metadata": {},
   "outputs": [
    {
     "name": "stdout",
     "output_type": "stream",
     "text": [
      "['I', 'e', 'i', 'o', 'e', 'o', 'e', 'e', 'i', 'i', 'u', 'e', 'o', 'e', 'a', 'a', 'a', 'i', 'e', 'e', 'i', 'e', 'a', 'i']\n"
     ]
    }
   ],
   "source": [
    "# function to filter all the vowels in a given string using filter\n",
    "def fil(str1):\n",
    "    vowels = ['A','E','I','O','U','a','e','i','o','u']\n",
    "    print(list(filter(lambda y: y in vowels, str1)))\n",
    "str1=\"Inceptz is one of the best institutes to read data science in chennai\"\n",
    "fil(str1)"
   ]
  },
  {
   "cell_type": "code",
   "execution_count": 123,
   "metadata": {},
   "outputs": [
    {
     "name": "stdout",
     "output_type": "stream",
     "text": [
      "[8, 9, 10, 12, 14]\n",
      "[64, 81, 100, 144, 196]\n"
     ]
    }
   ],
   "source": [
    "# function to create a list as the square of elements from the given list if the square is greater than 60\n",
    "lst1=[5, 6, 7 , 8, 9, 10, 12, 14]\n",
    "def sq(lst1):\n",
    "    l=list(filter(lambda z: z**2 > 60, lst1))\n",
    "    print(l)\n",
    "    print(list(map(lambda z1: z1 ** 2, l)))\n",
    "    \n",
    "sq(lst1)"
   ]
  },
  {
   "cell_type": "code",
   "execution_count": 145,
   "metadata": {},
   "outputs": [
    {
     "name": "stdout",
     "output_type": "stream",
     "text": [
      "Inceptez provides the best inclass trainings and is the best\n"
     ]
    }
   ],
   "source": [
    "# take the words given below as list and write a function and use reduce to make it a sentence\n",
    "'''Inceptz \n",
    "\n",
    "provides\n",
    "\n",
    "the\n",
    "\n",
    "best\n",
    "\n",
    "inclass \n",
    "\n",
    "trainings \n",
    "\n",
    "and\n",
    "\n",
    "is \n",
    "\n",
    "the \n",
    "\n",
    "best'''\n",
    "\n",
    "\n",
    "li = ['Inceptez','provides','the','best','inclass','trainings','and','is','the','best']\n",
    "def fun(li):\n",
    "    print(' '.join(li))\n",
    "fun(li)    "
   ]
  },
  {
   "cell_type": "code",
   "execution_count": 156,
   "metadata": {},
   "outputs": [
    {
     "name": "stdout",
     "output_type": "stream",
     "text": [
      "Inceptez provides the best inclass trainings and is the best\n"
     ]
    }
   ],
   "source": [
    "# take the words given below as list and write a function and use reduce to make it a sentence\n",
    "'''Inceptz \n",
    "\n",
    "provides\n",
    "\n",
    "the\n",
    "\n",
    "best\n",
    "\n",
    "inclass \n",
    "\n",
    "trainings \n",
    "\n",
    "and\n",
    "\n",
    "is \n",
    "\n",
    "the \n",
    "\n",
    "best'''\n",
    "\n",
    "from functools import reduce\n",
    "def red(li):\n",
    "    li = ['Inceptez','provides','the','best','inclass','trainings','and','is','the','best']\n",
    "    return reduce(lambda x, y: x +\" \"+ y, li)\n",
    "print(red(li))"
   ]
  }
 ],
 "metadata": {
  "kernelspec": {
   "display_name": "Python 3",
   "language": "python",
   "name": "python3"
  },
  "language_info": {
   "codemirror_mode": {
    "name": "ipython",
    "version": 3
   },
   "file_extension": ".py",
   "mimetype": "text/x-python",
   "name": "python",
   "nbconvert_exporter": "python",
   "pygments_lexer": "ipython3",
   "version": "3.8.5"
  }
 },
 "nbformat": 4,
 "nbformat_minor": 4
}
