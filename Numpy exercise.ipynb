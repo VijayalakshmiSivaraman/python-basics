{
 "cells": [
  {
   "cell_type": "code",
   "execution_count": 172,
   "metadata": {},
   "outputs": [
    {
     "data": {
      "text/plain": [
       "array([12, 13, 14, 15, 16, 17, 18, 19, 20, 21, 22, 23, 24, 25, 26, 27, 28,\n",
       "       29, 30, 31, 32, 33, 34, 35, 36, 37])"
      ]
     },
     "execution_count": 172,
     "metadata": {},
     "output_type": "execute_result"
    }
   ],
   "source": [
    "# array with values ranging from 12 to 38\n",
    "import numpy as np\n",
    "arr = np.arange(12, 38)\n",
    "arr"
   ]
  },
  {
   "cell_type": "code",
   "execution_count": 25,
   "metadata": {},
   "outputs": [
    {
     "data": {
      "text/plain": [
       "array([[0, 0, 0, 0, 0],\n",
       "       [0, 1, 1, 1, 0],\n",
       "       [0, 1, 1, 1, 0],\n",
       "       [0, 1, 1, 1, 0],\n",
       "       [0, 0, 0, 0, 0]])"
      ]
     },
     "execution_count": 25,
     "metadata": {},
     "output_type": "execute_result"
    }
   ],
   "source": [
    "# adding a border around the existing array\n",
    "a = np.array([[1,1,1], [1,1,1], [1,1,1]])\n",
    "a = np.pad(a, pad_width = 1)\n",
    "a"
   ]
  },
  {
   "cell_type": "code",
   "execution_count": 24,
   "metadata": {},
   "outputs": [
    {
     "data": {
      "text/plain": [
       "array([[0, 0, 0, 0, 0, 0, 0],\n",
       "       [0, 0, 0, 0, 0, 0, 0],\n",
       "       [0, 0, 1, 1, 1, 0, 0],\n",
       "       [0, 0, 1, 1, 1, 0, 0],\n",
       "       [0, 0, 1, 1, 1, 0, 0],\n",
       "       [0, 0, 0, 0, 0, 0, 0],\n",
       "       [0, 0, 0, 0, 0, 0, 0]])"
      ]
     },
     "execution_count": 24,
     "metadata": {},
     "output_type": "execute_result"
    }
   ],
   "source": [
    "# adding a border around the existing array\n",
    "a = np.array([[1,1,1], [1,1,1], [1,1,1]])\n",
    "a = np.pad(a, pad_width = 2)\n",
    "a"
   ]
  },
  {
   "cell_type": "code",
   "execution_count": 6,
   "metadata": {},
   "outputs": [
    {
     "name": "stdout",
     "output_type": "stream",
     "text": [
      "[1 2 3 4 5 6 7 8]\n"
     ]
    }
   ],
   "source": [
    "# converting list into array\n",
    "list_1 = [1,2,3,4,5,6,7, 8]\n",
    "arr_1 = np.asarray(list_1)\n",
    "print(arr_1)"
   ]
  },
  {
   "cell_type": "code",
   "execution_count": 7,
   "metadata": {},
   "outputs": [
    {
     "name": "stdout",
     "output_type": "stream",
     "text": [
      "[list([8, 4, 6]) 1 2 3]\n"
     ]
    },
    {
     "name": "stderr",
     "output_type": "stream",
     "text": [
      "C:\\Users\\Balaji\\anaconda3\\lib\\site-packages\\numpy\\core\\_asarray.py:83: VisibleDeprecationWarning: Creating an ndarray from ragged nested sequences (which is a list-or-tuple of lists-or-tuples-or ndarrays with different lengths or shapes) is deprecated. If you meant to do this, you must specify 'dtype=object' when creating the ndarray\n",
      "  return array(a, dtype, copy=False, order=order)\n"
     ]
    }
   ],
   "source": [
    "# converting a tuple into array\n",
    "tuple_1 = ([8,4,6], 1,2,3)\n",
    "arr_2 = np.asarray(tuple_1)\n",
    "print(arr_2)"
   ]
  },
  {
   "cell_type": "code",
   "execution_count": 8,
   "metadata": {},
   "outputs": [
    {
     "data": {
      "text/plain": [
       "array(['s', '1', 'b', '30'], dtype='<U2')"
      ]
     },
     "execution_count": 8,
     "metadata": {},
     "output_type": "execute_result"
    }
   ],
   "source": [
    "# converting a tuple into array\n",
    "tup = (\"s\", 1, \"b\", 30)\n",
    "ar = np.asarray(tup)\n",
    "ar"
   ]
  },
  {
   "cell_type": "code",
   "execution_count": 9,
   "metadata": {},
   "outputs": [
    {
     "name": "stdout",
     "output_type": "stream",
     "text": [
      "Centigrade degree array:  [ 0.   12.   45.21 34.   99.91]\n",
      "Fahrenheit degree array:  [ 32.     53.6   113.378  93.2   211.838]\n"
     ]
    }
   ],
   "source": [
    "# converting Centigrade degrees into Fahrenheit degrees\n",
    "val_c = [0,12,45.21,34,99.91]\n",
    "arr_c = np.asarray(val_c)\n",
    "print(\"Centigrade degree array: \", arr_c)\n",
    "arr_f = ((9* arr_c)/5)+ 32\n",
    "print(\"Fahrenheit degree array: \", arr_f)"
   ]
  },
  {
   "cell_type": "code",
   "execution_count": 18,
   "metadata": {},
   "outputs": [
    {
     "name": "stdout",
     "output_type": "stream",
     "text": [
      "[ 1.  5. 30.  9.  6.]\n",
      "float32\n",
      "[ 1  5 30  9  6]\n",
      "int32\n",
      "dimension of array:  1\n",
      "[[[ 1  5 30  9  6]]]\n",
      "dimension of array:  3\n"
     ]
    }
   ],
   "source": [
    "arr_3 = np.array([1,5,30,9,6], dtype = 'f') #conversion to float\n",
    "print(arr_3)\n",
    "print(arr_3.dtype) #to print data type\n",
    "arr_3 = arr_3.astype(int) #conversion to int\n",
    "print(arr_3)\n",
    "print(arr_3.dtype)\n",
    "print(\"dimension of array: \", arr_3.ndim)# to find the dimension of array\n",
    "arr_3 = np.array(arr_3, ndmin = 3) #to make into 3D\n",
    "print(arr_3)\n",
    "print(\"dimension of array: \", arr_3.ndim)"
   ]
  },
  {
   "cell_type": "code",
   "execution_count": 20,
   "metadata": {},
   "outputs": [
    {
     "name": "stdout",
     "output_type": "stream",
     "text": [
      "[7 8 9]\n"
     ]
    }
   ],
   "source": [
    "#slicing\n",
    "arr_4 = np.array([[1, 2, 3, 4, 5], [6, 7, 8, 9, 10]])\n",
    "print(arr_4[1, 1:4])"
   ]
  },
  {
   "cell_type": "code",
   "execution_count": 19,
   "metadata": {},
   "outputs": [
    {
     "name": "stdout",
     "output_type": "stream",
     "text": [
      "[[2 3 4]\n",
      " [7 8 9]]\n"
     ]
    }
   ],
   "source": [
    "arr_5 = np.array([[1, 2, 3, 4, 5], [6, 7, 8, 9, 10]])\n",
    "print(arr_5[0:2, 1:4])#Slices elements in index 1, 2, 3 in both the arrays since criteria is mentioned 0:2"
   ]
  },
  {
   "cell_type": "code",
   "execution_count": 21,
   "metadata": {},
   "outputs": [
    {
     "name": "stdout",
     "output_type": "stream",
     "text": [
      "[[[ 1  2]\n",
      "  [ 3  4]\n",
      "  [ 5  6]]\n",
      "\n",
      " [[ 7  8]\n",
      "  [ 9 10]\n",
      "  [11 12]]]\n"
     ]
    }
   ],
   "source": [
    "arr6 = np.array([1, 2, 3, 4, 5, 6, 7, 8, 9, 10, 11, 12])\n",
    "newarr = arr6.reshape(2, 3, 2) #reshapes into 3D where it should have 2 arrays with 3 rows and 2 columns each\n",
    "print(newarr)"
   ]
  },
  {
   "cell_type": "code",
   "execution_count": 22,
   "metadata": {},
   "outputs": [
    {
     "name": "stdout",
     "output_type": "stream",
     "text": [
      "1\n",
      "2\n",
      "3\n",
      "4\n",
      "5\n",
      "6\n",
      "7\n",
      "8\n"
     ]
    }
   ],
   "source": [
    "arr7 = np.array([[[1, 2], [3, 4]], [[5, 6], [7, 8]]])\n",
    "for x in np.nditer(arr7): #to access individual values\n",
    "  print(x)"
   ]
  },
  {
   "cell_type": "code",
   "execution_count": 23,
   "metadata": {},
   "outputs": [
    {
     "name": "stdout",
     "output_type": "stream",
     "text": [
      "(0, 0) 1\n",
      "(0, 1) 2\n",
      "(0, 2) 3\n",
      "(0, 3) 4\n",
      "(1, 0) 5\n",
      "(1, 1) 6\n",
      "(1, 2) 7\n",
      "(1, 3) 8\n"
     ]
    }
   ],
   "source": [
    "arr8 = np.array([[1, 2, 3, 4], [5, 6, 7, 8]])\n",
    "for idx, x in np.ndenumerate(arr8): #to access index of individual elements along with its values\n",
    "  print(idx, x)"
   ]
  },
  {
   "cell_type": "code",
   "execution_count": 39,
   "metadata": {},
   "outputs": [
    {
     "name": "stdout",
     "output_type": "stream",
     "text": [
      "[0.   2.25 4.5  6.75 9.  ]\n",
      "length of array:  5\n",
      "size of array:  5\n",
      "length of one array element in bytes:  8\n",
      "total bytes consumed by the elements of array:  40\n"
     ]
    }
   ],
   "source": [
    "# no.of elements of array, length of array element in bytes & total bytes consumed by the elements\n",
    "b = np.linspace(0,9,5)\n",
    "print(b)\n",
    "print(\"length of array: \", len(b))\n",
    "print(\"size of array: \", b.size)\n",
    "print(\"length of one array element in bytes: \", b.itemsize)\n",
    "print(\"total bytes consumed by the elements of array: \", b.nbytes)"
   ]
  },
  {
   "cell_type": "code",
   "execution_count": 42,
   "metadata": {},
   "outputs": [
    {
     "name": "stdout",
     "output_type": "stream",
     "text": [
      "original array:  [ 1  2  2  3  3  5 30  9  6]\n",
      "unique array:  [ 1  2  3  5  6  9 30]\n"
     ]
    }
   ],
   "source": [
    "# Get the unique elements of an array\n",
    "c = np.array([1,2,2,3,3,5,30,9,6])\n",
    "print(\"original array: \", c)\n",
    "new_c = np.unique(c)\n",
    "print(\"unique array: \", new_c)"
   ]
  },
  {
   "cell_type": "code",
   "execution_count": 51,
   "metadata": {},
   "outputs": [
    {
     "name": "stdout",
     "output_type": "stream",
     "text": [
      "Original array:  [1 2 3 4 5 6 7 8 9]\n",
      "1\n",
      "(9,)\n",
      "changed array:  [[1 2 3]\n",
      " [4 5 6]\n",
      " [7 8 9]]\n",
      "2\n",
      "(3, 3)\n"
     ]
    }
   ],
   "source": [
    "# dimension change of array\n",
    "original_arr = np.array([1,2,3,4,5,6,7,8,9])\n",
    "print(\"Original array: \", original_arr)\n",
    "print(original_arr.ndim)\n",
    "print(np.shape(original_arr))\n",
    "changed_arr = original_arr.reshape(3,3)\n",
    "print(\"changed array: \", changed_arr)\n",
    "print(changed_arr.ndim)\n",
    "print(np.shape(changed_arr))"
   ]
  },
  {
   "cell_type": "code",
   "execution_count": 54,
   "metadata": {},
   "outputs": [
    {
     "name": "stdout",
     "output_type": "stream",
     "text": [
      "Original array:  [1 2 3 4 5 6 7 8 9]\n",
      "Dimension changed array:  [[[1 2 3 4 5 6 7 8 9]]]\n",
      "3\n"
     ]
    }
   ],
   "source": [
    "# dimension change of array\n",
    "original_arr = np.array([1,2,3,4,5,6,7,8,9])\n",
    "print(\"Original array: \", original_arr)\n",
    "changed_arr = np.array(original_arr, ndmin = 3)\n",
    "print(\"Dimension changed array: \", changed_arr)\n",
    "print(changed_arr.ndim)"
   ]
  },
  {
   "cell_type": "code",
   "execution_count": 55,
   "metadata": {},
   "outputs": [
    {
     "name": "stdout",
     "output_type": "stream",
     "text": [
      "[2.5        2.63793103 2.77586207 2.9137931  3.05172414 3.18965517\n",
      " 3.32758621 3.46551724 3.60344828 3.74137931 3.87931034 4.01724138\n",
      " 4.15517241 4.29310345 4.43103448 4.56896552 4.70689655 4.84482759\n",
      " 4.98275862 5.12068966 5.25862069 5.39655172 5.53448276 5.67241379\n",
      " 5.81034483 5.94827586 6.0862069  6.22413793 6.36206897 6.5       ]\n"
     ]
    }
   ],
   "source": [
    "# Create a 1-D array of 30 evenly spaced elements between 2.5. and 6.5, inclusive\n",
    "d = np.linspace(2.5, 6.5, 30)\n",
    "print(d)"
   ]
  },
  {
   "cell_type": "code",
   "execution_count": 58,
   "metadata": {},
   "outputs": [
    {
     "name": "stdout",
     "output_type": "stream",
     "text": [
      "[[10 40]\n",
      " [20 50]\n",
      " [30 60]]\n"
     ]
    }
   ],
   "source": [
    "# Convert 1-D arrays as columns into a 2-D array\n",
    "array1 = np.array([10,20,30])\n",
    "array2 = np.array([40,50,60])\n",
    "array3 = np.stack((array1,array2),axis=1)\n",
    "print(array3)\n"
   ]
  },
  {
   "cell_type": "code",
   "execution_count": 73,
   "metadata": {},
   "outputs": [
    {
     "name": "stdout",
     "output_type": "stream",
     "text": [
      "[10 20 30 40 50 60]\n"
     ]
    }
   ],
   "source": [
    "# joining\n",
    "array1 = np.array([10,20,30])\n",
    "array2 = np.array([40,50,60])\n",
    "array3 = np.concatenate((array1,array2))\n",
    "print(array3)"
   ]
  },
  {
   "cell_type": "code",
   "execution_count": 74,
   "metadata": {},
   "outputs": [
    {
     "name": "stdout",
     "output_type": "stream",
     "text": [
      "[10 20 30 40 50 60]\n"
     ]
    }
   ],
   "source": [
    "# joining\n",
    "array1 = np.array([10,20,30])\n",
    "array2 = np.array([40,50,60])\n",
    "array3 = np.hstack((array1,array2))\n",
    "print(array3)"
   ]
  },
  {
   "cell_type": "code",
   "execution_count": 75,
   "metadata": {},
   "outputs": [
    {
     "name": "stdout",
     "output_type": "stream",
     "text": [
      "[[10 20 30]\n",
      " [40 50 60]]\n"
     ]
    }
   ],
   "source": [
    "# joining\n",
    "array1 = np.array([10,20,30])\n",
    "array2 = np.array([40,50,60])\n",
    "array3 = np.vstack((array1,array2))\n",
    "print(array3)"
   ]
  },
  {
   "cell_type": "code",
   "execution_count": 76,
   "metadata": {},
   "outputs": [
    {
     "name": "stdout",
     "output_type": "stream",
     "text": [
      "[[[10 40]\n",
      "  [20 50]\n",
      "  [30 60]]]\n"
     ]
    }
   ],
   "source": [
    "# joining\n",
    "array1 = np.array([10,20,30])\n",
    "array2 = np.array([40,50,60])\n",
    "array3 = np.dstack((array1,array2))\n",
    "print(array3)"
   ]
  },
  {
   "cell_type": "code",
   "execution_count": 100,
   "metadata": {},
   "outputs": [
    {
     "name": "stdout",
     "output_type": "stream",
     "text": [
      "original:  [[0. 0. 0. 0. 0.]\n",
      " [0. 0. 0. 0. 0.]\n",
      " [0. 0. 0. 0. 0.]\n",
      " [0. 0. 0. 0. 0.]\n",
      " [0. 0. 0. 0. 0.]]\n",
      "reconstructed:  [[0. 1. 2. 3. 4.]\n",
      " [0. 1. 2. 3. 4.]\n",
      " [0. 1. 2. 3. 4.]\n",
      " [0. 1. 2. 3. 4.]\n",
      " [0. 1. 2. 3. 4.]]\n"
     ]
    }
   ],
   "source": [
    "# Create a 5x5 matrix with row values ranging from 0 to 4\n",
    "e = np.zeros((5,5))\n",
    "print(\"original: \", e)\n",
    "f = e + np.arange(5)\n",
    "print(\"reconstructed: \", f)"
   ]
  },
  {
   "cell_type": "code",
   "execution_count": 110,
   "metadata": {},
   "outputs": [
    {
     "name": "stdout",
     "output_type": "stream",
     "text": [
      "[ 3  5  6  9 10 12 15 18 20 21 24 25 27 30 33 35 36 39 40 42 45 48 50 51\n",
      " 54 55 57 60 63 65 66 69 70 72 75 78 80 81 84 85 87 90 93 95 96 99]\n",
      "2318\n"
     ]
    }
   ],
   "source": [
    "# Sum of all the multiples of 3 or 5 below 100\n",
    "g = np.arange(1, 100)\n",
    "h= g[(g % 3 == 0) | (g % 5 == 0)]\n",
    "print(h)\n",
    "print(h.sum())"
   ]
  },
  {
   "cell_type": "code",
   "execution_count": 124,
   "metadata": {},
   "outputs": [
    {
     "name": "stdout",
     "output_type": "stream",
     "text": [
      "1D array:  [0 1 2 3]\n",
      "2D array:  [[0 1 2 3]\n",
      " [4 5 6 7]]\n",
      "0 : 0\n",
      "1 : 1\n",
      "2 : 2\n",
      "3 : 3\n",
      "0 : 4\n",
      "1 : 5\n",
      "2 : 6\n",
      "3 : 7\n"
     ]
    }
   ],
   "source": [
    "# Combine a one and a two dimensional array together and display their elements\n",
    "i = np.arange(4)\n",
    "print(\"1D array: \", i)\n",
    "j = np.arange(8)\n",
    "k = j.reshape(2,4)\n",
    "print(\"2D array: \", k)\n",
    "for l,m in np.nditer([i,k]):\n",
    "    print(l, ':', m)"
   ]
  },
  {
   "cell_type": "code",
   "execution_count": 126,
   "metadata": {},
   "outputs": [
    {
     "name": "stdout",
     "output_type": "stream",
     "text": [
      "Original array: [[0.42436315 0.48558583 0.32924763]\n",
      " [0.7439979  0.58220701 0.38213418]\n",
      " [0.5097581  0.34528799 0.1563123 ]]\n",
      "reconstructed array: [[0.42436315 0.48558583 0.32924763]\n",
      " [0.5        0.5        0.38213418]\n",
      " [0.5        0.34528799 0.1563123 ]]\n"
     ]
    }
   ],
   "source": [
    "# replace all elements of NumPy array that are greater than specified array\n",
    "n = np.array([[ 0.42436315, 0.48558583, 0.32924763], [ 0.7439979,0.58220701,0.38213418], [ 0.5097581,0.34528799,0.1563123 ]])\n",
    "print(\"Original array:\" , n)\n",
    "n[n>0.5] = 0.5\n",
    "print(\"reconstructed array:\", n)"
   ]
  },
  {
   "cell_type": "code",
   "execution_count": 153,
   "metadata": {},
   "outputs": [
    {
     "name": "stdout",
     "output_type": "stream",
     "text": [
      "empty array:  []\n",
      "[[10 20 30]]\n",
      "[[10 20 30]\n",
      " [40 50 60]]\n"
     ]
    }
   ],
   "source": [
    "# Add a new row to an empty numpy array\n",
    "o = np.empty((0,3), int)\n",
    "print(\"empty array: \", o)\n",
    "o = np.append(o, np.array([[10,20,30]]), axis = 0)\n",
    "print(o)\n",
    "o = np.append(o, np.array([[40,50,60]]), axis = 0)\n",
    "print(o)"
   ]
  },
  {
   "cell_type": "code",
   "execution_count": 162,
   "metadata": {},
   "outputs": [
    {
     "name": "stdout",
     "output_type": "stream",
     "text": [
      "[[1 2 3]\n",
      " [4 5 6]]\n"
     ]
    }
   ],
   "source": [
    "# join a sequence of arrays along a new axis\n",
    "p = np.array([1,2,3])\n",
    "q = np.array([4,5,6])\n",
    "r = np.vstack((p,q))\n",
    "print(r)"
   ]
  },
  {
   "cell_type": "code",
   "execution_count": 166,
   "metadata": {},
   "outputs": [
    {
     "name": "stdout",
     "output_type": "stream",
     "text": [
      "[[1]\n",
      " [2]\n",
      " [3]\n",
      " [5]\n",
      " [6]\n",
      " [7]]\n"
     ]
    }
   ],
   "source": [
    "# join a sequence of arrays along a new axis\n",
    "s = np.array([[1],[2],[3]])\n",
    "t = np.array([[5],[6],[7]])\n",
    "u = np.vstack((s,t))\n",
    "print(u)"
   ]
  },
  {
   "cell_type": "code",
   "execution_count": 174,
   "metadata": {},
   "outputs": [
    {
     "name": "stdout",
     "output_type": "stream",
     "text": [
      "[0 1 2 3 4 5 6 7 8]\n",
      "(array([4], dtype=int64),)\n"
     ]
    }
   ],
   "source": [
    "# search\n",
    "ar1 = np.arange(9)\n",
    "print(ar1)\n",
    "sar1 = np.where((ar1 == 4))\n",
    "print(sar1)"
   ]
  },
  {
   "cell_type": "code",
   "execution_count": 178,
   "metadata": {},
   "outputs": [
    {
     "name": "stdout",
     "output_type": "stream",
     "text": [
      "[0 1 2 3 4 5 6 7 8]\n",
      "9\n"
     ]
    }
   ],
   "source": [
    "# search \n",
    "ar1 = np.arange(9)\n",
    "print(ar1)\n",
    "sar1 = np.searchsorted(ar1, 9)\n",
    "print(sar1)"
   ]
  },
  {
   "cell_type": "code",
   "execution_count": 180,
   "metadata": {},
   "outputs": [
    {
     "name": "stdout",
     "output_type": "stream",
     "text": [
      "[0 1 2 3 4 5 6 7 8]\n",
      "5\n"
     ]
    }
   ],
   "source": [
    "# search \n",
    "ar1 = np.arange(9)\n",
    "print(ar1)\n",
    "sar1 = np.searchsorted(ar1, 5)\n",
    "print(sar1)"
   ]
  },
  {
   "cell_type": "code",
   "execution_count": 183,
   "metadata": {},
   "outputs": [
    {
     "name": "stdout",
     "output_type": "stream",
     "text": [
      "[ 9 10 11 12 13 14]\n",
      "1\n"
     ]
    }
   ],
   "source": [
    "# search \n",
    "ar1 = np.array([9,10,11,12,13,14])\n",
    "print(ar1)\n",
    "sar1 = np.searchsorted(ar1, 10)\n",
    "print(sar1)"
   ]
  },
  {
   "cell_type": "code",
   "execution_count": 184,
   "metadata": {},
   "outputs": [
    {
     "name": "stdout",
     "output_type": "stream",
     "text": [
      "[ 9 10 11 12 13 14]\n",
      "[array([ 9, 10, 11]), array([12, 13, 14])]\n"
     ]
    }
   ],
   "source": [
    "# split \n",
    "ar1 = np.array([9,10,11,12,13,14])\n",
    "print(ar1)\n",
    "sar1 = np.array_split(ar1, 2) #splits array into 2 since we gave 2\n",
    "print(sar1)"
   ]
  },
  {
   "cell_type": "code",
   "execution_count": 186,
   "metadata": {},
   "outputs": [
    {
     "name": "stdout",
     "output_type": "stream",
     "text": [
      "[ 9 10 11 12 13]\n",
      "[array([ 9, 10, 11]), array([12, 13])]\n"
     ]
    }
   ],
   "source": [
    "# split \n",
    "ar1 = np.array([9,10,11,12,13])\n",
    "print(ar1)\n",
    "sar1 = np.array_split(ar1, 2) #splits array into 2 since we gave 2\n",
    "print(sar1)"
   ]
  },
  {
   "cell_type": "code",
   "execution_count": 185,
   "metadata": {},
   "outputs": [
    {
     "name": "stdout",
     "output_type": "stream",
     "text": [
      "[ 9  0  1 12  5 14]\n",
      "[ 0  1  5  9 12 14]\n"
     ]
    }
   ],
   "source": [
    "# sort \n",
    "ar1 = np.array([9,0,1,12,5,14])\n",
    "print(ar1)\n",
    "sar1 = np.sort(ar1)\n",
    "print(sar1)"
   ]
  },
  {
   "cell_type": "code",
   "execution_count": 192,
   "metadata": {},
   "outputs": [
    {
     "name": "stdout",
     "output_type": "stream",
     "text": [
      "[ 9  0  1 12  5 14]\n",
      "[ 9 12  5]\n"
     ]
    }
   ],
   "source": [
    "ar1 = np.array([9,0,1,12,5,14])\n",
    "print(ar1)\n",
    "sar1 = [True, False, False, True, True, False]\n",
    "ar2 = ar1[sar1]\n",
    "print(ar2)"
   ]
  }
 ],
 "metadata": {
  "kernelspec": {
   "display_name": "Python 3",
   "language": "python",
   "name": "python3"
  },
  "language_info": {
   "codemirror_mode": {
    "name": "ipython",
    "version": 3
   },
   "file_extension": ".py",
   "mimetype": "text/x-python",
   "name": "python",
   "nbconvert_exporter": "python",
   "pygments_lexer": "ipython3",
   "version": "3.8.5"
  }
 },
 "nbformat": 4,
 "nbformat_minor": 4
}
